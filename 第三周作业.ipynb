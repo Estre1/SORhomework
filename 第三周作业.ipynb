{
 "cells": [
  {
   "cell_type": "code",
   "execution_count": 1,
   "metadata": {},
   "outputs": [],
   "source": [
    "import numpy as np\n",
    "import math\n",
    "import tabulate"
   ]
  },
  {
   "cell_type": "markdown",
   "metadata": {},
   "source": [
    "# M/M/K平稳状态函数定义"
   ]
  },
  {
   "cell_type": "markdown",
   "metadata": {},
   "source": [
    "## 1. $\\pi_n,\\ (n = 0, 1, \\cdots)$计算"
   ]
  },
  {
   "cell_type": "code",
   "execution_count": 2,
   "metadata": {},
   "outputs": [],
   "source": [
    "def pi_n_compute(lam, mu, K, n):\n",
    "    rho = lam/mu\n",
    "    p1 = 0\n",
    "    p2 = (rho**K/math.factorial(K))*K/(K-rho)\n",
    "    for i in range(K):\n",
    "        p1 = p1 + rho**i/math.factorial(i)\n",
    "    pi_0 = 1/(p1 + p2)\n",
    "    if n == 0:\n",
    "        pi_n = pi_0\n",
    "    elif (n>=1) & (n<=K):\n",
    "        pi_n = rho**n * pi_0 / math.factorial(n)\n",
    "    elif n>K:\n",
    "        pi_n = (rho**n)* pi_0 / (math.factorial(K) * (K**(n-K)))\n",
    "    return pi_n\n"
   ]
  },
  {
   "cell_type": "markdown",
   "metadata": {},
   "source": [
    "## 2. 性能指标 ##\n",
    "\n",
    "- 到达顾客需要等待的概率$p_w$ \n",
    "- 平均等待队长$L_q$\n",
    "- 平均等待时间$W_q$\n",
    "- 系统中的平均逗留时间$W$\n",
    "- 系统中的平均汽车数$L$\n",
    "- 服务台利用率$U$"
   ]
  },
  {
   "cell_type": "code",
   "execution_count": 3,
   "metadata": {},
   "outputs": [],
   "source": [
    "def p_w_compute(lam, mu, K):\n",
    "    rho = lam/mu\n",
    "    pi_0 = pi_n_compute(lam, mu, K, 0)\n",
    "    c = K*(rho**K)/math.factorial(K)/(K-rho)\n",
    "    p_w = c*pi_0\n",
    "    return p_w\n",
    "\n",
    "def L_q_compute(lam, mu, K):\n",
    "    rho = lam/mu\n",
    "    pi_0 = pi_n_compute(lam, mu, K, 0)\n",
    "    c1 = rho**(K+1)/math.factorial(K-1)\n",
    "    c2 = 1/((K-rho)**2)\n",
    "    L_q = pi_0 * c1 * c2\n",
    "    return L_q\n",
    "\n",
    "def W_q_compute(lam, mu, K):\n",
    "    L_q = L_q_compute(lam, mu, K)\n",
    "    W_q = L_q/lam\n",
    "    return W_q\n",
    "\n",
    "def W_compute(lam, mu, K):\n",
    "    W_q = W_q_compute(lam, mu, K)\n",
    "    W = W_q + 1/mu\n",
    "    return W\n",
    "\n",
    "def L_compute(lam, mu, K):\n",
    "    W = W_compute(lam, mu, K)\n",
    "    L = W * lam\n",
    "    return L\n",
    "\n",
    "def U_compute(lam, mu, K):\n",
    "    rho = lam/mu\n",
    "    U = rho/K\n",
    "    return U\n"
   ]
  },
  {
   "cell_type": "markdown",
   "metadata": {},
   "source": [
    "## 3. 实例计算"
   ]
  },
  {
   "cell_type": "markdown",
   "metadata": {},
   "source": [
    "### 第4题"
   ]
  },
  {
   "cell_type": "code",
   "execution_count": 4,
   "metadata": {},
   "outputs": [
    {
     "name": "stdout",
     "output_type": "stream",
     "text": [
      "系统中有 0个人的概率为： 4.49 %\n",
      "系统中有 1个人的概率为：11.24 %\n",
      "系统中有 2个人的概率为：14.04 %\n",
      "系统中有 3个人的概率为：11.70 %\n",
      "系统中有 4个人的概率为： 9.75 %\n",
      "系统中有 5个人的概率为： 8.13 %\n",
      "系统中有 6个人的概率为： 6.77 %\n",
      "系统中有 7个人的概率为： 5.64 %\n",
      "系统中有 8个人的概率为： 4.70 %\n",
      "系统中有 9个人的概率为： 3.92 %\n",
      "平均等待队长为：3.5112\n",
      "平均等待时间为：3.5112\n",
      "平均逗留时间为：6.0112\n",
      "系统中的平均顾客数为：6.0112\n",
      "到达顾客需要等待的概率为：70.22 %\n",
      "服务台的平均利用率为：83.33 %\n"
     ]
    }
   ],
   "source": [
    "'''\n",
    "\n",
    "可以代入书中第27页例2.2中的数据验证，即\n",
    "lam = 60\n",
    "mu = 66\n",
    "K = 2\n",
    "注意到第30页表格中lam与mu数值错误，以27页为准\n",
    "\n",
    "'''\n",
    "\n",
    "lam = 1\n",
    "mu = 0.4\n",
    "K = 3\n",
    "\n",
    "# 系统中有n个人的概率\n",
    "Num = 10   # 显示的pi_n的数量\n",
    "for i in range(Num):\n",
    "    exec(\"pi_{n} = pi_n_compute(lam, mu, K, {n})\".format(n = i))\n",
    "    exec(\"p = 100 * pi_{n}\".format(n = i))\n",
    "    print(\"系统中有{n:2d}个人的概率为：{p:5.2f} %\".format(n = i,p = p))\n",
    "\n",
    "# 平均等待队长\n",
    "L_q= L_q_compute(lam, mu, K)\n",
    "print(\"平均等待队长为：{:.4f}\".format(L_q))\n",
    "\n",
    "# 平均等待时间\n",
    "W_q= W_q_compute(lam, mu, K)\n",
    "print(\"平均等待时间为：{:.4f}\".format(W_q))\n",
    "\n",
    "# 平均逗留时间\n",
    "W = W_compute(lam, mu, K)\n",
    "print(\"平均逗留时间为：{:.4f}\".format(W))\n",
    "\n",
    "# 系统中的平均顾客数\n",
    "L = L_compute(lam, mu, K)\n",
    "print(\"系统中的平均顾客数为：{:.4f}\".format(L))\n",
    "\n",
    "# 到达顾客需要等待的概率\n",
    "p_W = p_w_compute(lam, mu, K)\n",
    "print(\"到达顾客需要等待的概率为：{:.2f} %\".format(100 * p_W))\n",
    "\n",
    "# 服务台的平均利用率\n",
    "U = U_compute(lam, mu, K)\n",
    "print(\"服务台的平均利用率为：{:.2f} %\".format(100 * U))\n"
   ]
  },
  {
   "cell_type": "markdown",
   "metadata": {},
   "source": [
    "### 第5题"
   ]
  },
  {
   "cell_type": "code",
   "execution_count": 5,
   "metadata": {},
   "outputs": [
    {
     "name": "stdout",
     "output_type": "stream",
     "text": [
      "系统中有 0个人的概率为： 3.77 %\n",
      "系统中有 1个人的概率为：11.32 %\n",
      "系统中有 2个人的概率为：16.98 %\n",
      "系统中有 3个人的概率为：16.98 %\n",
      "系统中有 4个人的概率为：12.74 %\n",
      "系统中有 5个人的概率为： 9.55 %\n",
      "系统中有 6个人的概率为： 7.16 %\n",
      "系统中有 7个人的概率为： 5.37 %\n",
      "系统中有 8个人的概率为： 4.03 %\n",
      "系统中有 9个人的概率为： 3.02 %\n",
      "平均等待队长为：1.5283\n",
      "平均等待时间为：1.0189\n",
      "平均逗留时间为：3.0189\n",
      "系统中的平均顾客数为：4.5283\n",
      "到达顾客需要等待的概率为：50.94 %\n",
      "服务台的平均利用率为：75.00 %\n"
     ]
    },
    {
     "data": {
      "text/plain": [
       "0.3433962264150943"
      ]
     },
     "execution_count": 5,
     "metadata": {},
     "output_type": "execute_result"
    }
   ],
   "source": [
    "lam = 1.5\n",
    "mu = 0.5\n",
    "K = 4\n",
    "\n",
    "# 系统中有n个人的概率\n",
    "Num = 10   # 显示的pi_n的数量\n",
    "for i in range(Num):\n",
    "    exec(\"pi_{n} = pi_n_compute(lam, mu, K, {n})\".format(n = i))\n",
    "    exec(\"p = 100 * pi_{n}\".format(n = i))\n",
    "    print(\"系统中有{n:2d}个人的概率为：{p:5.2f} %\".format(n = i,p = p))\n",
    "\n",
    "# 平均等待队长\n",
    "L_q= L_q_compute(lam, mu, K)\n",
    "print(\"平均等待队长为：{:.4f}\".format(L_q))\n",
    "\n",
    "# 平均等待时间\n",
    "W_q= W_q_compute(lam, mu, K)\n",
    "print(\"平均等待时间为：{:.4f}\".format(W_q))\n",
    "\n",
    "# 平均逗留时间\n",
    "W = W_compute(lam, mu, K)\n",
    "print(\"平均逗留时间为：{:.4f}\".format(W))\n",
    "\n",
    "# 系统中的平均顾客数\n",
    "L = L_compute(lam, mu, K)\n",
    "print(\"系统中的平均顾客数为：{:.4f}\".format(L))\n",
    "\n",
    "# 到达顾客需要等待的概率\n",
    "p_W = p_w_compute(lam, mu, K)\n",
    "print(\"到达顾客需要等待的概率为：{:.2f} %\".format(100 * p_W))\n",
    "\n",
    "# 服务台的平均利用率\n",
    "U = U_compute(lam, mu, K)\n",
    "print(\"服务台的平均利用率为：{:.2f} %\".format(100 * U))\n",
    "(1-p_W)*0.7"
   ]
  },
  {
   "cell_type": "markdown",
   "metadata": {},
   "source": [
    "# K个M/M/1排队系统\n",
    "对于到达率为$\\lambda$，每个服务台的服务率为$\\mu$的该排队系统来说，由于每个顾客到达任意一个M/M/1排队系统的概率均为$\\frac{1}{K}$, 因此每个M/M/1排队系统的平均到达率为$\\frac{\\lambda}{K}$"
   ]
  },
  {
   "cell_type": "code",
   "execution_count": 6,
   "metadata": {},
   "outputs": [
    {
     "name": "stdout",
     "output_type": "stream",
     "text": [
      "平均等待队长为：12.50\n",
      "平均等待时间为：37.50\n",
      "平均逗留时间为：45.00\n",
      "系统中的平均顾客数为：15.0000\n",
      "一条队列中，到达顾客需要等待的概率为：83.33 %\n"
     ]
    }
   ],
   "source": [
    "lam = 1\n",
    "mu = 0.4\n",
    "K = 1 # 对每条队列而言有1个服务台\n",
    "Number = 3 # 系统中一共有3个服务台\n",
    "lam_separate = lam/Number # 对每条队列的到达率\n",
    "\n",
    "# 一条队列中有n个人的概率\n",
    "Num = 10   # 显示的pi_n的数量\n",
    "for i in range(Num):\n",
    "    exec(\"pi_{n} = pi_n_compute(lam_separate, mu, K, {n})\".format(n = i))\n",
    "    exec(\"p = 100 * pi_{n}\".format(n = i))\n",
    "    # print(\"一条队列中有{n:2d}个人的概率为：{p:5.2f} %\".format(n = i,p = p))\n",
    "\n",
    "# 系统的平均等待队长\n",
    "L_q = Number * L_q_compute(lam_separate, mu, K)\n",
    "print(\"平均等待队长为：{:.2f}\".format(L_q))\n",
    "\n",
    "# 系统的平均等待时间\n",
    "W_q = Number * W_q_compute(lam_separate, mu, K)\n",
    "print(\"平均等待时间为：{:.2f}\".format(W_q))\n",
    "\n",
    "# 系统的平均逗留时间\n",
    "W = Number * W_compute(lam_separate, mu, K)\n",
    "print(\"平均逗留时间为：{:.2f}\".format(W))\n",
    "\n",
    "# 系统中的平均顾客数\n",
    "L = Number * L_compute(lam_separate, mu, K)\n",
    "print(\"系统中的平均顾客数为：{:.4f}\".format(L))\n",
    "\n",
    "# 一条队列中，到达顾客需要等待的概率\n",
    "p_W = p_w_compute(lam_separate, mu, K)\n",
    "print(\"一条队列中，到达顾客需要等待的概率为：{:.2f} %\".format(100 * p_W))\n",
    "\n"
   ]
  },
  {
   "cell_type": "markdown",
   "metadata": {},
   "source": [
    "# 机器维修的M/M/K/N 系统"
   ]
  },
  {
   "cell_type": "code",
   "execution_count": 8,
   "metadata": {},
   "outputs": [],
   "source": [
    "def pi_n_compute_N(lam, mu, K, N, n):\n",
    "    rho = lam/mu\n",
    "    a = 0\n",
    "    b = 0\n",
    "    for i in range(K+1):\n",
    "        a = a + math.comb(N,i) * (rho**i)\n",
    "    for j in range(K,N+1):\n",
    "        b = b + (rho**j)/(K**(j-K)) / math.factorial(N - j)\n",
    "    p = 1 / (a + math.factorial(N)*b/math.factorial(K))\n",
    "    if n == 0: pi_n = p\n",
    "    elif (n > 0) & (n <= K):\n",
    "        pi_n = math.comb(N, n) * (rho**i) * p\n",
    "    elif (n > K) & (n <= N):\n",
    "        t1 = math.factorial(N)/math.factorial(K)\n",
    "        t2 = (K**(n-K)) * math.factorial(N-n)\n",
    "        t3 = (rho**n) * p\n",
    "        pi_n = t1 * t3 / t2\n",
    "    else: pi_n =  False\n",
    "    return pi_n\n",
    "\n",
    "def L_compute_N(lam, mu, K, N):\n",
    "    rho = lam / mu\n",
    "    s = 0\n",
    "    for i in range(N+1):\n",
    "        s = s + i * pi_n_compute_N(lam, mu, K, N, i)\n",
    "    return s\n",
    "\n",
    "# 紧张程度：平均工作的服务台数量/总服务台数量\n",
    "def U_compute_N(lam, mu, K, N):\n",
    "    s = 0\n",
    "    for i in range(K+1):\n",
    "        s = s + (1-i/K) * pi_n_compute_N(lam, mu, K, N, i)\n",
    "    U = 1-s\n",
    "    return U\n"
   ]
  },
  {
   "cell_type": "code",
   "execution_count": 10,
   "metadata": {},
   "outputs": [
    {
     "name": "stdout",
     "output_type": "stream",
     "text": [
      "pi_0: 14.94 %\n",
      "系统中的机器数量：93.10 %\n",
      "工人的紧张程度：84.12 %\n"
     ]
    }
   ],
   "source": [
    "lam = 0.5\n",
    "mu = 5\n",
    "N = 18\n",
    "K = 3\n",
    "print(\"pi_0: {:.2f} %\".format(100 * pi_n_compute_N(lam, mu, K, N, 0)))\n",
    "print(\"系统中的机器数量：{:.2f} %\" .format(100 *L_compute_N(lam, mu, K, N)))\n",
    "print(\"工人的紧张程度：{:.2f} %\".format(100 *U_compute_N(lam, mu, K, N)))\n"
   ]
  }
 ],
 "metadata": {
  "kernelspec": {
   "display_name": "Python 3",
   "language": "python",
   "name": "python3"
  },
  "language_info": {
   "codemirror_mode": {
    "name": "ipython",
    "version": 3
   },
   "file_extension": ".py",
   "mimetype": "text/x-python",
   "name": "python",
   "nbconvert_exporter": "python",
   "pygments_lexer": "ipython3",
   "version": "3.11.4"
  },
  "orig_nbformat": 4
 },
 "nbformat": 4,
 "nbformat_minor": 2
}
